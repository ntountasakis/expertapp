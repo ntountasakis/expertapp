{
 "cells": [
  {
   "cell_type": "markdown",
   "id": "f048b861-cc69-47f8-a5a0-3fc9e78690ae",
   "metadata": {
    "tags": []
   },
   "source": [
    "# Market research survey "
   ]
  },
  {
   "cell_type": "markdown",
   "id": "44500df4-c7c4-4acc-92d4-feb5024052e2",
   "metadata": {
    "jp-MarkdownHeadingCollapsed": true,
    "tags": []
   },
   "source": [
    "# Imports "
   ]
  },
  {
   "cell_type": "code",
   "execution_count": 192,
   "id": "d2df57a1-4206-44d4-9819-e5058ff1a643",
   "metadata": {},
   "outputs": [],
   "source": [
    "import pandas as pd\n",
    "import numpy as np\n",
    "import matplotlib.pyplot as plt\n",
    "import seaborn as sns\n",
    "\n",
    "%matplotlib inline\n",
    "plt.rcParams[\"figure.figsize\"] = (15, 7)\n",
    "\n",
    "import warnings\n",
    "warnings.filterwarnings(\"ignore\")"
   ]
  },
  {
   "cell_type": "code",
   "execution_count": 88,
   "id": "ec8f1028-37b1-485b-9f4f-11abc1e6ed16",
   "metadata": {},
   "outputs": [],
   "source": [
    "def show_pct(vals):\n",
    "    return vals.value_counts().divide(len(vals)).to_frame().style.format('{:,.0%}')"
   ]
  },
  {
   "cell_type": "markdown",
   "id": "f5e6cc65-3523-4d67-b67e-298734c1f013",
   "metadata": {
    "jp-MarkdownHeadingCollapsed": true,
    "tags": []
   },
   "source": [
    "# Load data"
   ]
  },
  {
   "cell_type": "code",
   "execution_count": 175,
   "id": "9d69de78-f555-41d2-b6e9-ac83d1ca6988",
   "metadata": {},
   "outputs": [],
   "source": [
    "df = pd.read_csv('../data/survey_response_data.csv.zip')\n",
    "new_cols = ['timestamp', 'prolific_id', 'city', 'state', 'zip', 'country', 'gender', 'age', 'income', 'yelp_tt_tr', 'any_app_purchase', '_', 'expert_app_usage', 'expert_app_yearly_cnt', 'expert_category',\n",
    "              'px_bargain', 'px_expensive', 'px', 'describe_time', 'thoughts']\n",
    "questions = {k:v for k,v in zip(new_cols, df.columns)}\n",
    "df.columns = new_cols\n",
    "expert_categories = pd.get_dummies(df.expert_category.str.split(';').apply(pd.Series).stack(), prefix='category').groupby(level=0).sum()\n",
    "expert_categories.columns = expert_categories.columns.str.lower().str.replace('&', 'and').str.replace(' ', '_')\n",
    "df = pd.concat([df, expert_categories], axis=1)\n",
    "df.px = df.px.str.replace('+', '', regex=False).str.replace('$', '', regex=False).astype(float)"
   ]
  },
  {
   "cell_type": "code",
   "execution_count": 176,
   "id": "c51ae4cc-c528-4262-bb4d-531c67010ed3",
   "metadata": {},
   "outputs": [],
   "source": [
    "for col in ['expert_app_yearly_cnt', 'yelp_tt_tr']:\n",
    "    new_col = col + '_coded'\n",
    "    df[new_col] = np.nan\n",
    "    df.loc[df[col].eq('Never'), new_col] = 0\n",
    "    df.loc[df[col].eq('1-5 times'), new_col] = 3\n",
    "    df.loc[df[col].eq('6-10 times'), new_col] = 8\n",
    "    df.loc[df[col].eq('More than 10 times'), new_col] = 10\n",
    "\n",
    "for col in ['any_app_purchase', 'expert_app_usage']:\n",
    "    new_col = col + '_coded'\n",
    "    df[new_col] = np.nan\n",
    "    df.loc[df[col].eq('Not at all likely'), new_col] = -2\n",
    "    df.loc[df[col].eq('Not very likely'), new_col] = -1\n",
    "    df.loc[df[col].eq('Somewhat likely'), new_col] = 0\n",
    "    df.loc[df[col].eq('Very likely'), new_col] = 1\n",
    "    df.loc[df[col].eq('Extremely likely'), new_col] = 2"
   ]
  },
  {
   "cell_type": "markdown",
   "id": "e37bf4a2-2723-4db9-b8d9-651e3cdb61b2",
   "metadata": {},
   "source": [
    "# Analysis"
   ]
  },
  {
   "cell_type": "markdown",
   "id": "f46d5547-75cc-490c-8f53-febbde8c39f0",
   "metadata": {
    "jp-MarkdownHeadingCollapsed": true,
    "tags": []
   },
   "source": [
    "## Demographics"
   ]
  },
  {
   "cell_type": "code",
   "execution_count": 91,
   "id": "26279482-b1a1-4c98-844c-b3dcefc62e23",
   "metadata": {},
   "outputs": [
    {
     "name": "stdout",
     "output_type": "stream",
     "text": [
      "State / Province\n"
     ]
    },
    {
     "data": {
      "text/html": [
       "<div>\n",
       "<style scoped>\n",
       "    .dataframe tbody tr th:only-of-type {\n",
       "        vertical-align: middle;\n",
       "    }\n",
       "\n",
       "    .dataframe tbody tr th {\n",
       "        vertical-align: top;\n",
       "    }\n",
       "\n",
       "    .dataframe thead th {\n",
       "        text-align: right;\n",
       "    }\n",
       "</style>\n",
       "<table border=\"1\" class=\"dataframe\">\n",
       "  <thead>\n",
       "    <tr style=\"text-align: right;\">\n",
       "      <th></th>\n",
       "      <th>state</th>\n",
       "    </tr>\n",
       "  </thead>\n",
       "  <tbody>\n",
       "    <tr>\n",
       "      <th>Florida</th>\n",
       "      <td>9</td>\n",
       "    </tr>\n",
       "    <tr>\n",
       "      <th>Texas</th>\n",
       "      <td>8</td>\n",
       "    </tr>\n",
       "    <tr>\n",
       "      <th>CA</th>\n",
       "      <td>7</td>\n",
       "    </tr>\n",
       "    <tr>\n",
       "      <th>California</th>\n",
       "      <td>6</td>\n",
       "    </tr>\n",
       "    <tr>\n",
       "      <th>NC</th>\n",
       "      <td>5</td>\n",
       "    </tr>\n",
       "    <tr>\n",
       "      <th>Utah</th>\n",
       "      <td>5</td>\n",
       "    </tr>\n",
       "    <tr>\n",
       "      <th>NJ</th>\n",
       "      <td>4</td>\n",
       "    </tr>\n",
       "    <tr>\n",
       "      <th>Pennsylvania</th>\n",
       "      <td>4</td>\n",
       "    </tr>\n",
       "    <tr>\n",
       "      <th>NY</th>\n",
       "      <td>4</td>\n",
       "    </tr>\n",
       "    <tr>\n",
       "      <th>TN</th>\n",
       "      <td>3</td>\n",
       "    </tr>\n",
       "  </tbody>\n",
       "</table>\n",
       "</div>"
      ],
      "text/plain": [
       "              state\n",
       "Florida           9\n",
       "Texas             8\n",
       "CA                7\n",
       "California        6\n",
       "NC                5\n",
       "Utah              5\n",
       "NJ                4\n",
       "Pennsylvania      4\n",
       "NY                4\n",
       "TN                3"
      ]
     },
     "execution_count": 91,
     "metadata": {},
     "output_type": "execute_result"
    }
   ],
   "source": [
    "df.state.value_counts().nlargest(10).to_frame()"
   ]
  },
  {
   "cell_type": "code",
   "execution_count": 78,
   "id": "0f411b7d-1673-45d1-b4bc-0fd88774e7b6",
   "metadata": {},
   "outputs": [
    {
     "data": {
      "text/html": [
       "<style type=\"text/css\">\n",
       "</style>\n",
       "<table id=\"T_4cddb_\">\n",
       "  <thead>\n",
       "    <tr>\n",
       "      <th class=\"blank level0\" >&nbsp;</th>\n",
       "      <th class=\"col_heading level0 col0\" >gender</th>\n",
       "    </tr>\n",
       "  </thead>\n",
       "  <tbody>\n",
       "    <tr>\n",
       "      <th id=\"T_4cddb_level0_row0\" class=\"row_heading level0 row0\" >Female</th>\n",
       "      <td id=\"T_4cddb_row0_col0\" class=\"data row0 col0\" >81%</td>\n",
       "    </tr>\n",
       "    <tr>\n",
       "      <th id=\"T_4cddb_level0_row1\" class=\"row_heading level0 row1\" >Male</th>\n",
       "      <td id=\"T_4cddb_row1_col0\" class=\"data row1 col0\" >17%</td>\n",
       "    </tr>\n",
       "    <tr>\n",
       "      <th id=\"T_4cddb_level0_row2\" class=\"row_heading level0 row2\" >Other</th>\n",
       "      <td id=\"T_4cddb_row2_col0\" class=\"data row2 col0\" >2%</td>\n",
       "    </tr>\n",
       "  </tbody>\n",
       "</table>\n"
      ],
      "text/plain": [
       "<pandas.io.formats.style.Styler at 0x7ff6ad0dfee0>"
      ]
     },
     "execution_count": 78,
     "metadata": {},
     "output_type": "execute_result"
    }
   ],
   "source": [
    "show_pct(df.gender)"
   ]
  },
  {
   "cell_type": "code",
   "execution_count": 79,
   "id": "f4805feb-45f6-4d2e-aded-4934a1e52d72",
   "metadata": {},
   "outputs": [
    {
     "data": {
      "text/html": [
       "<style type=\"text/css\">\n",
       "</style>\n",
       "<table id=\"T_66e70_\">\n",
       "  <thead>\n",
       "    <tr>\n",
       "      <th class=\"blank level0\" >&nbsp;</th>\n",
       "      <th class=\"col_heading level0 col0\" >age</th>\n",
       "    </tr>\n",
       "  </thead>\n",
       "  <tbody>\n",
       "    <tr>\n",
       "      <th id=\"T_66e70_level0_row0\" class=\"row_heading level0 row0\" >21-29</th>\n",
       "      <td id=\"T_66e70_row0_col0\" class=\"data row0 col0\" >52%</td>\n",
       "    </tr>\n",
       "    <tr>\n",
       "      <th id=\"T_66e70_level0_row1\" class=\"row_heading level0 row1\" >18-20</th>\n",
       "      <td id=\"T_66e70_row1_col0\" class=\"data row1 col0\" >24%</td>\n",
       "    </tr>\n",
       "    <tr>\n",
       "      <th id=\"T_66e70_level0_row2\" class=\"row_heading level0 row2\" >30-39</th>\n",
       "      <td id=\"T_66e70_row2_col0\" class=\"data row2 col0\" >15%</td>\n",
       "    </tr>\n",
       "    <tr>\n",
       "      <th id=\"T_66e70_level0_row3\" class=\"row_heading level0 row3\" >40-49</th>\n",
       "      <td id=\"T_66e70_row3_col0\" class=\"data row3 col0\" >6%</td>\n",
       "    </tr>\n",
       "    <tr>\n",
       "      <th id=\"T_66e70_level0_row4\" class=\"row_heading level0 row4\" >50-59</th>\n",
       "      <td id=\"T_66e70_row4_col0\" class=\"data row4 col0\" >2%</td>\n",
       "    </tr>\n",
       "    <tr>\n",
       "      <th id=\"T_66e70_level0_row5\" class=\"row_heading level0 row5\" >60 or older</th>\n",
       "      <td id=\"T_66e70_row5_col0\" class=\"data row5 col0\" >1%</td>\n",
       "    </tr>\n",
       "  </tbody>\n",
       "</table>\n"
      ],
      "text/plain": [
       "<pandas.io.formats.style.Styler at 0x7ff6ada09730>"
      ]
     },
     "execution_count": 79,
     "metadata": {},
     "output_type": "execute_result"
    }
   ],
   "source": [
    "show_pct(df.age)"
   ]
  },
  {
   "cell_type": "code",
   "execution_count": 80,
   "id": "a5523298-7f79-4e44-8dd3-f7cb484794a7",
   "metadata": {},
   "outputs": [
    {
     "data": {
      "text/html": [
       "<style type=\"text/css\">\n",
       "</style>\n",
       "<table id=\"T_9f366_\">\n",
       "  <thead>\n",
       "    <tr>\n",
       "      <th class=\"blank level0\" >&nbsp;</th>\n",
       "      <th class=\"col_heading level0 col0\" >income</th>\n",
       "    </tr>\n",
       "  </thead>\n",
       "  <tbody>\n",
       "    <tr>\n",
       "      <th id=\"T_9f366_level0_row0\" class=\"row_heading level0 row0\" >Between \\$50,000 and \\$74,999</th>\n",
       "      <td id=\"T_9f366_row0_col0\" class=\"data row0 col0\" >35%</td>\n",
       "    </tr>\n",
       "    <tr>\n",
       "      <th id=\"T_9f366_level0_row1\" class=\"row_heading level0 row1\" >Between \\$75,000 and \\$99,999</th>\n",
       "      <td id=\"T_9f366_row1_col0\" class=\"data row1 col0\" >24%</td>\n",
       "    </tr>\n",
       "    <tr>\n",
       "      <th id=\"T_9f366_level0_row2\" class=\"row_heading level0 row2\" >Between \\$100,000 and \\$150,000</th>\n",
       "      <td id=\"T_9f366_row2_col0\" class=\"data row2 col0\" >22%</td>\n",
       "    </tr>\n",
       "    <tr>\n",
       "      <th id=\"T_9f366_level0_row3\" class=\"row_heading level0 row3\" >Over \\$150,000</th>\n",
       "      <td id=\"T_9f366_row3_col0\" class=\"data row3 col0\" >10%</td>\n",
       "    </tr>\n",
       "    <tr>\n",
       "      <th id=\"T_9f366_level0_row4\" class=\"row_heading level0 row4\" >Between \\$30,000 and \\$49,999</th>\n",
       "      <td id=\"T_9f366_row4_col0\" class=\"data row4 col0\" >7%</td>\n",
       "    </tr>\n",
       "    <tr>\n",
       "      <th id=\"T_9f366_level0_row5\" class=\"row_heading level0 row5\" >Between \\$15,000 and \\$29,999</th>\n",
       "      <td id=\"T_9f366_row5_col0\" class=\"data row5 col0\" >1%</td>\n",
       "    </tr>\n",
       "    <tr>\n",
       "      <th id=\"T_9f366_level0_row6\" class=\"row_heading level0 row6\" >Under \\$15,000</th>\n",
       "      <td id=\"T_9f366_row6_col0\" class=\"data row6 col0\" >1%</td>\n",
       "    </tr>\n",
       "  </tbody>\n",
       "</table>\n"
      ],
      "text/plain": [
       "<pandas.io.formats.style.Styler at 0x7ff6ad0e6dc0>"
      ]
     },
     "execution_count": 80,
     "metadata": {},
     "output_type": "execute_result"
    }
   ],
   "source": [
    "show_pct(df.income.str.replace('$', '\\$', regex=False))"
   ]
  },
  {
   "cell_type": "markdown",
   "id": "e603322c-9e91-4a08-a9b6-5b2a54c8c1f4",
   "metadata": {
    "jp-MarkdownHeadingCollapsed": true,
    "tags": []
   },
   "source": [
    "## App usage"
   ]
  },
  {
   "cell_type": "code",
   "execution_count": 95,
   "id": "a44b2e7f-7579-42c0-9fab-00ae732aa88b",
   "metadata": {},
   "outputs": [
    {
     "name": "stdout",
     "output_type": "stream",
     "text": [
      "In a year, how many times do you hire professionals through apps like Yelp, Thumbtack, or TaskRabbit? \n",
      "\n"
     ]
    },
    {
     "data": {
      "text/html": [
       "<style type=\"text/css\">\n",
       "</style>\n",
       "<table id=\"T_3bf10_\">\n",
       "  <thead>\n",
       "    <tr>\n",
       "      <th class=\"blank level0\" >&nbsp;</th>\n",
       "      <th class=\"col_heading level0 col0\" >yelp_tt_tr</th>\n",
       "    </tr>\n",
       "  </thead>\n",
       "  <tbody>\n",
       "    <tr>\n",
       "      <th id=\"T_3bf10_level0_row0\" class=\"row_heading level0 row0\" >Never</th>\n",
       "      <td id=\"T_3bf10_row0_col0\" class=\"data row0 col0\" >85%</td>\n",
       "    </tr>\n",
       "    <tr>\n",
       "      <th id=\"T_3bf10_level0_row1\" class=\"row_heading level0 row1\" >1-5 times</th>\n",
       "      <td id=\"T_3bf10_row1_col0\" class=\"data row1 col0\" >11%</td>\n",
       "    </tr>\n",
       "    <tr>\n",
       "      <th id=\"T_3bf10_level0_row2\" class=\"row_heading level0 row2\" >6-10 times</th>\n",
       "      <td id=\"T_3bf10_row2_col0\" class=\"data row2 col0\" >2%</td>\n",
       "    </tr>\n",
       "    <tr>\n",
       "      <th id=\"T_3bf10_level0_row3\" class=\"row_heading level0 row3\" >More than 10 times</th>\n",
       "      <td id=\"T_3bf10_row3_col0\" class=\"data row3 col0\" >2%</td>\n",
       "    </tr>\n",
       "  </tbody>\n",
       "</table>\n"
      ],
      "text/plain": [
       "<pandas.io.formats.style.Styler at 0x7ff6ad27fbb0>"
      ]
     },
     "execution_count": 95,
     "metadata": {},
     "output_type": "execute_result"
    }
   ],
   "source": [
    "print(questions['yelp_tt_tr'], '\\n')\n",
    "show_pct(df.yelp_tt_tr)"
   ]
  },
  {
   "cell_type": "code",
   "execution_count": 96,
   "id": "4d5adb90-d736-4dfa-8b9e-1c076044ac73",
   "metadata": {},
   "outputs": [
    {
     "name": "stdout",
     "output_type": "stream",
     "text": [
      "On a typical day, how likely are you to make a purchase using an app? \n",
      "\n"
     ]
    },
    {
     "data": {
      "text/html": [
       "<style type=\"text/css\">\n",
       "</style>\n",
       "<table id=\"T_2af13_\">\n",
       "  <thead>\n",
       "    <tr>\n",
       "      <th class=\"blank level0\" >&nbsp;</th>\n",
       "      <th class=\"col_heading level0 col0\" >any_app_purchase</th>\n",
       "    </tr>\n",
       "  </thead>\n",
       "  <tbody>\n",
       "    <tr>\n",
       "      <th id=\"T_2af13_level0_row0\" class=\"row_heading level0 row0\" >Somewhat likely</th>\n",
       "      <td id=\"T_2af13_row0_col0\" class=\"data row0 col0\" >43%</td>\n",
       "    </tr>\n",
       "    <tr>\n",
       "      <th id=\"T_2af13_level0_row1\" class=\"row_heading level0 row1\" >Very likely</th>\n",
       "      <td id=\"T_2af13_row1_col0\" class=\"data row1 col0\" >23%</td>\n",
       "    </tr>\n",
       "    <tr>\n",
       "      <th id=\"T_2af13_level0_row2\" class=\"row_heading level0 row2\" >Not very likely</th>\n",
       "      <td id=\"T_2af13_row2_col0\" class=\"data row2 col0\" >19%</td>\n",
       "    </tr>\n",
       "    <tr>\n",
       "      <th id=\"T_2af13_level0_row3\" class=\"row_heading level0 row3\" >Extremely likely</th>\n",
       "      <td id=\"T_2af13_row3_col0\" class=\"data row3 col0\" >13%</td>\n",
       "    </tr>\n",
       "    <tr>\n",
       "      <th id=\"T_2af13_level0_row4\" class=\"row_heading level0 row4\" >Not at all likely</th>\n",
       "      <td id=\"T_2af13_row4_col0\" class=\"data row4 col0\" >2%</td>\n",
       "    </tr>\n",
       "  </tbody>\n",
       "</table>\n"
      ],
      "text/plain": [
       "<pandas.io.formats.style.Styler at 0x7ff6ad114f10>"
      ]
     },
     "execution_count": 96,
     "metadata": {},
     "output_type": "execute_result"
    }
   ],
   "source": [
    "print(questions['any_app_purchase'], '\\n')\n",
    "show_pct(df.any_app_purchase)"
   ]
  },
  {
   "cell_type": "markdown",
   "id": "2289badb-6ae2-4b92-87d7-b8d5cd2d3af1",
   "metadata": {
    "jp-MarkdownHeadingCollapsed": true,
    "tags": []
   },
   "source": [
    "## Expert app"
   ]
  },
  {
   "cell_type": "code",
   "execution_count": 97,
   "id": "34ec6e19-bc94-49ad-ad42-d5fc15acb14a",
   "metadata": {},
   "outputs": [
    {
     "name": "stdout",
     "output_type": "stream",
     "text": [
      "Assuming the price was reasonable, how likely would you be to consider using this app? \n",
      "\n"
     ]
    },
    {
     "data": {
      "text/html": [
       "<style type=\"text/css\">\n",
       "</style>\n",
       "<table id=\"T_1d5b4_\">\n",
       "  <thead>\n",
       "    <tr>\n",
       "      <th class=\"blank level0\" >&nbsp;</th>\n",
       "      <th class=\"col_heading level0 col0\" >expert_app_usage</th>\n",
       "    </tr>\n",
       "  </thead>\n",
       "  <tbody>\n",
       "    <tr>\n",
       "      <th id=\"T_1d5b4_level0_row0\" class=\"row_heading level0 row0\" >Very likely</th>\n",
       "      <td id=\"T_1d5b4_row0_col0\" class=\"data row0 col0\" >37%</td>\n",
       "    </tr>\n",
       "    <tr>\n",
       "      <th id=\"T_1d5b4_level0_row1\" class=\"row_heading level0 row1\" >Somewhat likely</th>\n",
       "      <td id=\"T_1d5b4_row1_col0\" class=\"data row1 col0\" >34%</td>\n",
       "    </tr>\n",
       "    <tr>\n",
       "      <th id=\"T_1d5b4_level0_row2\" class=\"row_heading level0 row2\" >Extremely likely</th>\n",
       "      <td id=\"T_1d5b4_row2_col0\" class=\"data row2 col0\" >17%</td>\n",
       "    </tr>\n",
       "    <tr>\n",
       "      <th id=\"T_1d5b4_level0_row3\" class=\"row_heading level0 row3\" >Not very likely</th>\n",
       "      <td id=\"T_1d5b4_row3_col0\" class=\"data row3 col0\" >12%</td>\n",
       "    </tr>\n",
       "    <tr>\n",
       "      <th id=\"T_1d5b4_level0_row4\" class=\"row_heading level0 row4\" >Not at all likely</th>\n",
       "      <td id=\"T_1d5b4_row4_col0\" class=\"data row4 col0\" >1%</td>\n",
       "    </tr>\n",
       "  </tbody>\n",
       "</table>\n"
      ],
      "text/plain": [
       "<pandas.io.formats.style.Styler at 0x7ff6ad114340>"
      ]
     },
     "execution_count": 97,
     "metadata": {},
     "output_type": "execute_result"
    }
   ],
   "source": [
    "print(questions['expert_app_usage'], '\\n')\n",
    "show_pct(df.expert_app_usage)"
   ]
  },
  {
   "cell_type": "code",
   "execution_count": 99,
   "id": "0514809e-397b-4c7c-b2da-568f7c727a84",
   "metadata": {},
   "outputs": [
    {
     "name": "stdout",
     "output_type": "stream",
     "text": [
      "In a year, how many times would you consider using this app? \n",
      "\n"
     ]
    },
    {
     "data": {
      "text/html": [
       "<style type=\"text/css\">\n",
       "</style>\n",
       "<table id=\"T_16f35_\">\n",
       "  <thead>\n",
       "    <tr>\n",
       "      <th class=\"blank level0\" >&nbsp;</th>\n",
       "      <th class=\"col_heading level0 col0\" >expert_app_yearly_cnt</th>\n",
       "    </tr>\n",
       "  </thead>\n",
       "  <tbody>\n",
       "    <tr>\n",
       "      <th id=\"T_16f35_level0_row0\" class=\"row_heading level0 row0\" >1-5 times</th>\n",
       "      <td id=\"T_16f35_row0_col0\" class=\"data row0 col0\" >44%</td>\n",
       "    </tr>\n",
       "    <tr>\n",
       "      <th id=\"T_16f35_level0_row1\" class=\"row_heading level0 row1\" >6-10 times</th>\n",
       "      <td id=\"T_16f35_row1_col0\" class=\"data row1 col0\" >29%</td>\n",
       "    </tr>\n",
       "    <tr>\n",
       "      <th id=\"T_16f35_level0_row2\" class=\"row_heading level0 row2\" >More than 10 times</th>\n",
       "      <td id=\"T_16f35_row2_col0\" class=\"data row2 col0\" >24%</td>\n",
       "    </tr>\n",
       "    <tr>\n",
       "      <th id=\"T_16f35_level0_row3\" class=\"row_heading level0 row3\" >Never</th>\n",
       "      <td id=\"T_16f35_row3_col0\" class=\"data row3 col0\" >2%</td>\n",
       "    </tr>\n",
       "  </tbody>\n",
       "</table>\n"
      ],
      "text/plain": [
       "<pandas.io.formats.style.Styler at 0x7ff6ad2775e0>"
      ]
     },
     "execution_count": 99,
     "metadata": {},
     "output_type": "execute_result"
    }
   ],
   "source": [
    "print(questions['expert_app_yearly_cnt'], '\\n')\n",
    "show_pct(df.expert_app_yearly_cnt)"
   ]
  },
  {
   "cell_type": "code",
   "execution_count": 136,
   "id": "69f87bdb-8db3-442e-ba01-7bf4b8c0ea82",
   "metadata": {},
   "outputs": [
    {
     "data": {
      "text/html": [
       "<style type=\"text/css\">\n",
       "</style>\n",
       "<table id=\"T_72367_\">\n",
       "  <thead>\n",
       "    <tr>\n",
       "      <th class=\"blank level0\" >&nbsp;</th>\n",
       "      <th class=\"col_heading level0 col0\" >expert_app_yearly_cnt_coded</th>\n",
       "    </tr>\n",
       "    <tr>\n",
       "      <th class=\"index_name level0\" >age</th>\n",
       "      <th class=\"blank col0\" >&nbsp;</th>\n",
       "    </tr>\n",
       "  </thead>\n",
       "  <tbody>\n",
       "    <tr>\n",
       "      <th id=\"T_72367_level0_row0\" class=\"row_heading level0 row0\" >18-20</th>\n",
       "      <td id=\"T_72367_row0_col0\" class=\"data row0 col0\" >6.7</td>\n",
       "    </tr>\n",
       "    <tr>\n",
       "      <th id=\"T_72367_level0_row1\" class=\"row_heading level0 row1\" >21-29</th>\n",
       "      <td id=\"T_72367_row1_col0\" class=\"data row1 col0\" >6.1</td>\n",
       "    </tr>\n",
       "    <tr>\n",
       "      <th id=\"T_72367_level0_row2\" class=\"row_heading level0 row2\" >30-39</th>\n",
       "      <td id=\"T_72367_row2_col0\" class=\"data row2 col0\" >6.2</td>\n",
       "    </tr>\n",
       "    <tr>\n",
       "      <th id=\"T_72367_level0_row3\" class=\"row_heading level0 row3\" >40-49</th>\n",
       "      <td id=\"T_72367_row3_col0\" class=\"data row3 col0\" >4.1</td>\n",
       "    </tr>\n",
       "    <tr>\n",
       "      <th id=\"T_72367_level0_row4\" class=\"row_heading level0 row4\" >50-59</th>\n",
       "      <td id=\"T_72367_row4_col0\" class=\"data row4 col0\" >3.7</td>\n",
       "    </tr>\n",
       "    <tr>\n",
       "      <th id=\"T_72367_level0_row5\" class=\"row_heading level0 row5\" >60 or older</th>\n",
       "      <td id=\"T_72367_row5_col0\" class=\"data row5 col0\" >10.0</td>\n",
       "    </tr>\n",
       "  </tbody>\n",
       "</table>\n"
      ],
      "text/plain": [
       "<pandas.io.formats.style.Styler at 0x7ff6ad2cff10>"
      ]
     },
     "execution_count": 136,
     "metadata": {},
     "output_type": "execute_result"
    }
   ],
   "source": [
    "summary = df.expert_app_yearly_cnt_coded.groupby(df.age).mean().to_frame().style.format('{:,.1f}')\n",
    "summary['"
   ]
  },
  {
   "cell_type": "code",
   "execution_count": 137,
   "id": "c1a20271-2395-402a-9002-b40d002b831c",
   "metadata": {},
   "outputs": [
    {
     "data": {
      "text/html": [
       "<style type=\"text/css\">\n",
       "</style>\n",
       "<table id=\"T_1c978_\">\n",
       "  <thead>\n",
       "    <tr>\n",
       "      <th class=\"blank level0\" >&nbsp;</th>\n",
       "      <th class=\"col_heading level0 col0\" >expert_app_yearly_cnt_coded</th>\n",
       "    </tr>\n",
       "    <tr>\n",
       "      <th class=\"index_name level0\" >gender</th>\n",
       "      <th class=\"blank col0\" >&nbsp;</th>\n",
       "    </tr>\n",
       "  </thead>\n",
       "  <tbody>\n",
       "    <tr>\n",
       "      <th id=\"T_1c978_level0_row0\" class=\"row_heading level0 row0\" >Female</th>\n",
       "      <td id=\"T_1c978_row0_col0\" class=\"data row0 col0\" >6.1</td>\n",
       "    </tr>\n",
       "    <tr>\n",
       "      <th id=\"T_1c978_level0_row1\" class=\"row_heading level0 row1\" >Male</th>\n",
       "      <td id=\"T_1c978_row1_col0\" class=\"data row1 col0\" >6.4</td>\n",
       "    </tr>\n",
       "    <tr>\n",
       "      <th id=\"T_1c978_level0_row2\" class=\"row_heading level0 row2\" >Other</th>\n",
       "      <td id=\"T_1c978_row2_col0\" class=\"data row2 col0\" >5.3</td>\n",
       "    </tr>\n",
       "  </tbody>\n",
       "</table>\n"
      ],
      "text/plain": [
       "<pandas.io.formats.style.Styler at 0x7ff6ad295dc0>"
      ]
     },
     "execution_count": 137,
     "metadata": {},
     "output_type": "execute_result"
    }
   ],
   "source": [
    "df.expert_app_yearly_cnt_coded.groupby(df.gender).mean().to_frame().style.format('{:,.1f}')"
   ]
  },
  {
   "cell_type": "markdown",
   "id": "50f4064d-880d-4bdc-bcd7-333f28df1e2c",
   "metadata": {
    "jp-MarkdownHeadingCollapsed": true,
    "tags": []
   },
   "source": [
    "## Categories"
   ]
  },
  {
   "cell_type": "code",
   "execution_count": 146,
   "id": "a491af5f-4235-4441-b2d4-b3e4f6905564",
   "metadata": {},
   "outputs": [
    {
     "data": {
      "text/html": [
       "<style type=\"text/css\">\n",
       "</style>\n",
       "<table id=\"T_ea240_\">\n",
       "  <thead>\n",
       "    <tr>\n",
       "      <th class=\"blank level0\" >&nbsp;</th>\n",
       "      <th class=\"col_heading level0 col0\" >Category</th>\n",
       "    </tr>\n",
       "  </thead>\n",
       "  <tbody>\n",
       "    <tr>\n",
       "      <th id=\"T_ea240_level0_row0\" class=\"row_heading level0 row0\" >category_medical</th>\n",
       "      <td id=\"T_ea240_row0_col0\" class=\"data row0 col0\" >69%</td>\n",
       "    </tr>\n",
       "    <tr>\n",
       "      <th id=\"T_ea240_level0_row1\" class=\"row_heading level0 row1\" >category_therapy</th>\n",
       "      <td id=\"T_ea240_row1_col0\" class=\"data row1 col0\" >65%</td>\n",
       "    </tr>\n",
       "    <tr>\n",
       "      <th id=\"T_ea240_level0_row2\" class=\"row_heading level0 row2\" >category_financial</th>\n",
       "      <td id=\"T_ea240_row2_col0\" class=\"data row2 col0\" >60%</td>\n",
       "    </tr>\n",
       "    <tr>\n",
       "      <th id=\"T_ea240_level0_row3\" class=\"row_heading level0 row3\" >category_travel</th>\n",
       "      <td id=\"T_ea240_row3_col0\" class=\"data row3 col0\" >57%</td>\n",
       "    </tr>\n",
       "    <tr>\n",
       "      <th id=\"T_ea240_level0_row4\" class=\"row_heading level0 row4\" >category_home_and_car_repair</th>\n",
       "      <td id=\"T_ea240_row4_col0\" class=\"data row4 col0\" >55%</td>\n",
       "    </tr>\n",
       "    <tr>\n",
       "      <th id=\"T_ea240_level0_row5\" class=\"row_heading level0 row5\" >category_beauty_and_fashion</th>\n",
       "      <td id=\"T_ea240_row5_col0\" class=\"data row5 col0\" >49%</td>\n",
       "    </tr>\n",
       "    <tr>\n",
       "      <th id=\"T_ea240_level0_row6\" class=\"row_heading level0 row6\" >category_career_advice</th>\n",
       "      <td id=\"T_ea240_row6_col0\" class=\"data row6 col0\" >45%</td>\n",
       "    </tr>\n",
       "    <tr>\n",
       "      <th id=\"T_ea240_level0_row7\" class=\"row_heading level0 row7\" >category_coaching_and_personal_development</th>\n",
       "      <td id=\"T_ea240_row7_col0\" class=\"data row7 col0\" >38%</td>\n",
       "    </tr>\n",
       "    <tr>\n",
       "      <th id=\"T_ea240_level0_row8\" class=\"row_heading level0 row8\" >category_legal</th>\n",
       "      <td id=\"T_ea240_row8_col0\" class=\"data row8 col0\" >38%</td>\n",
       "    </tr>\n",
       "    <tr>\n",
       "      <th id=\"T_ea240_level0_row9\" class=\"row_heading level0 row9\" >category_tutoring</th>\n",
       "      <td id=\"T_ea240_row9_col0\" class=\"data row9 col0\" >35%</td>\n",
       "    </tr>\n",
       "    <tr>\n",
       "      <th id=\"T_ea240_level0_row10\" class=\"row_heading level0 row10\" >category_computers_and_it</th>\n",
       "      <td id=\"T_ea240_row10_col0\" class=\"data row10 col0\" >31%</td>\n",
       "    </tr>\n",
       "    <tr>\n",
       "      <th id=\"T_ea240_level0_row11\" class=\"row_heading level0 row11\" >category_business_consulting</th>\n",
       "      <td id=\"T_ea240_row11_col0\" class=\"data row11 col0\" >18%</td>\n",
       "    </tr>\n",
       "  </tbody>\n",
       "</table>\n"
      ],
      "text/plain": [
       "<pandas.io.formats.style.Styler at 0x7ff6adb10ca0>"
      ]
     },
     "execution_count": 146,
     "metadata": {},
     "output_type": "execute_result"
    }
   ],
   "source": [
    "expert_categories.mean().rename('Category').sort_values(ascending=False).to_frame().style.format('{:,.0%}')"
   ]
  },
  {
   "cell_type": "code",
   "execution_count": 198,
   "id": "ce1ae237-4e81-4c1a-9093-713d8be5806f",
   "metadata": {},
   "outputs": [
    {
     "data": {
      "image/png": "[encoded data removed]",
      "text/plain": [
       "<Figure size 1080x504 with 1 Axes>"
      ]
     },
     "metadata": {
      "needs_background": "light"
     },
     "output_type": "display_data"
    },
    {
     "data": {
      "text/html": [
       "<style type=\"text/css\">\n",
       "</style>\n",
       "<table id=\"T_40429_\">\n",
       "  <thead>\n",
       "    <tr>\n",
       "      <th class=\"blank level0\" >&nbsp;</th>\n",
       "      <th class=\"col_heading level0 col0\" >px_bargain</th>\n",
       "      <th class=\"col_heading level0 col1\" >px</th>\n",
       "      <th class=\"col_heading level0 col2\" >px_expensive</th>\n",
       "    </tr>\n",
       "  </thead>\n",
       "  <tbody>\n",
       "    <tr>\n",
       "      <th id=\"T_40429_level0_row0\" class=\"row_heading level0 row0\" >count</th>\n",
       "      <td id=\"T_40429_row0_col0\" class=\"data row0 col0\" >136.0</td>\n",
       "      <td id=\"T_40429_row0_col1\" class=\"data row0 col1\" >136.0</td>\n",
       "      <td id=\"T_40429_row0_col2\" class=\"data row0 col2\" >136.0</td>\n",
       "    </tr>\n",
       "    <tr>\n",
       "      <th id=\"T_40429_level0_row1\" class=\"row_heading level0 row1\" >mean</th>\n",
       "      <td id=\"T_40429_row1_col0\" class=\"data row1 col0\" >16.8</td>\n",
       "      <td id=\"T_40429_row1_col1\" class=\"data row1 col1\" >33.3</td>\n",
       "      <td id=\"T_40429_row1_col2\" class=\"data row1 col2\" >51.6</td>\n",
       "    </tr>\n",
       "    <tr>\n",
       "      <th id=\"T_40429_level0_row2\" class=\"row_heading level0 row2\" >std</th>\n",
       "      <td id=\"T_40429_row2_col0\" class=\"data row2 col0\" >20.2</td>\n",
       "      <td id=\"T_40429_row2_col1\" class=\"data row2 col1\" >53.3</td>\n",
       "      <td id=\"T_40429_row2_col2\" class=\"data row2 col2\" >47.5</td>\n",
       "    </tr>\n",
       "    <tr>\n",
       "      <th id=\"T_40429_level0_row3\" class=\"row_heading level0 row3\" >min</th>\n",
       "      <td id=\"T_40429_row3_col0\" class=\"data row3 col0\" >0.0</td>\n",
       "      <td id=\"T_40429_row3_col1\" class=\"data row3 col1\" >2.0</td>\n",
       "      <td id=\"T_40429_row3_col2\" class=\"data row3 col2\" >5.0</td>\n",
       "    </tr>\n",
       "    <tr>\n",
       "      <th id=\"T_40429_level0_row4\" class=\"row_heading level0 row4\" >25%</th>\n",
       "      <td id=\"T_40429_row4_col0\" class=\"data row4 col0\" >5.0</td>\n",
       "      <td id=\"T_40429_row4_col1\" class=\"data row4 col1\" >15.0</td>\n",
       "      <td id=\"T_40429_row4_col2\" class=\"data row4 col2\" >20.0</td>\n",
       "    </tr>\n",
       "    <tr>\n",
       "      <th id=\"T_40429_level0_row5\" class=\"row_heading level0 row5\" >50%</th>\n",
       "      <td id=\"T_40429_row5_col0\" class=\"data row5 col0\" >10.0</td>\n",
       "      <td id=\"T_40429_row5_col1\" class=\"data row5 col1\" >25.0</td>\n",
       "      <td id=\"T_40429_row5_col2\" class=\"data row5 col2\" >40.0</td>\n",
       "    </tr>\n",
       "    <tr>\n",
       "      <th id=\"T_40429_level0_row6\" class=\"row_heading level0 row6\" >75%</th>\n",
       "      <td id=\"T_40429_row6_col0\" class=\"data row6 col0\" >20.0</td>\n",
       "      <td id=\"T_40429_row6_col1\" class=\"data row6 col1\" >40.0</td>\n",
       "      <td id=\"T_40429_row6_col2\" class=\"data row6 col2\" >50.0</td>\n",
       "    </tr>\n",
       "    <tr>\n",
       "      <th id=\"T_40429_level0_row7\" class=\"row_heading level0 row7\" >max</th>\n",
       "      <td id=\"T_40429_row7_col0\" class=\"data row7 col0\" >200.0</td>\n",
       "      <td id=\"T_40429_row7_col1\" class=\"data row7 col1\" >600.0</td>\n",
       "      <td id=\"T_40429_row7_col2\" class=\"data row7 col2\" >400.0</td>\n",
       "    </tr>\n",
       "  </tbody>\n",
       "</table>\n"
      ],
      "text/plain": [
       "<pandas.io.formats.style.Styler at 0x7ff6adb212b0>"
      ]
     },
     "execution_count": 198,
     "metadata": {},
     "output_type": "execute_result"
    }
   ],
   "source": [
    "px = df[['px_bargain', 'px', 'px_expensive']]\n",
    "sns.distplot(df.px_bargain, kde=True, hist=False, label='px_bargain')\n",
    "sns.distplot(df.px, kde=True, hist=False, label='px')\n",
    "sns.distplot(df.px_expensive, kde=True, hist=False, label='px')\n",
    "plt.legend()\n",
    "plt.show()\n",
    "px.describe().style.format('{:,.1f}')"
   ]
  },
  {
   "cell_type": "code",
   "execution_count": 207,
   "id": "f043dc72-fcb5-4786-bc76-673637122834",
   "metadata": {},
   "outputs": [],
   "source": [
    "px_by_category = []\n",
    "for category in expert_categories.columns:\n",
    "    px_by_category.append(df.loc[df[category].eq(1), ['px_bargain', 'px', 'px_expensive']].mean().rename(category))\n",
    "px_by_category = pd.concat(px_by_category, axis=1).T"
   ]
  },
  {
   "cell_type": "code",
   "execution_count": 210,
   "id": "d4460892-9729-4c73-a01f-bbb78a03742c",
   "metadata": {},
   "outputs": [
    {
     "data": {
      "text/html": [
       "<style type=\"text/css\">\n",
       "</style>\n",
       "<table id=\"T_40276_\">\n",
       "  <thead>\n",
       "    <tr>\n",
       "      <th class=\"blank level0\" >&nbsp;</th>\n",
       "      <th class=\"col_heading level0 col0\" >px_bargain</th>\n",
       "      <th class=\"col_heading level0 col1\" >px</th>\n",
       "      <th class=\"col_heading level0 col2\" >px_expensive</th>\n",
       "    </tr>\n",
       "  </thead>\n",
       "  <tbody>\n",
       "    <tr>\n",
       "      <th id=\"T_40276_level0_row0\" class=\"row_heading level0 row0\" >category_business_consulting</th>\n",
       "      <td id=\"T_40276_row0_col0\" class=\"data row0 col0\" >27</td>\n",
       "      <td id=\"T_40276_row0_col1\" class=\"data row0 col1\" >60</td>\n",
       "      <td id=\"T_40276_row0_col2\" class=\"data row0 col2\" >75</td>\n",
       "    </tr>\n",
       "    <tr>\n",
       "      <th id=\"T_40276_level0_row1\" class=\"row_heading level0 row1\" >category_financial</th>\n",
       "      <td id=\"T_40276_row1_col0\" class=\"data row1 col0\" >20</td>\n",
       "      <td id=\"T_40276_row1_col1\" class=\"data row1 col1\" >40</td>\n",
       "      <td id=\"T_40276_row1_col2\" class=\"data row1 col2\" >59</td>\n",
       "    </tr>\n",
       "    <tr>\n",
       "      <th id=\"T_40276_level0_row2\" class=\"row_heading level0 row2\" >category_legal</th>\n",
       "      <td id=\"T_40276_row2_col0\" class=\"data row2 col0\" >19</td>\n",
       "      <td id=\"T_40276_row2_col1\" class=\"data row2 col1\" >38</td>\n",
       "      <td id=\"T_40276_row2_col2\" class=\"data row2 col2\" >51</td>\n",
       "    </tr>\n",
       "    <tr>\n",
       "      <th id=\"T_40276_level0_row3\" class=\"row_heading level0 row3\" >category_coaching_and_personal_development</th>\n",
       "      <td id=\"T_40276_row3_col0\" class=\"data row3 col0\" >17</td>\n",
       "      <td id=\"T_40276_row3_col1\" class=\"data row3 col1\" >35</td>\n",
       "      <td id=\"T_40276_row3_col2\" class=\"data row3 col2\" >57</td>\n",
       "    </tr>\n",
       "    <tr>\n",
       "      <th id=\"T_40276_level0_row4\" class=\"row_heading level0 row4\" >category_travel</th>\n",
       "      <td id=\"T_40276_row4_col0\" class=\"data row4 col0\" >17</td>\n",
       "      <td id=\"T_40276_row4_col1\" class=\"data row4 col1\" >33</td>\n",
       "      <td id=\"T_40276_row4_col2\" class=\"data row4 col2\" >57</td>\n",
       "    </tr>\n",
       "    <tr>\n",
       "      <th id=\"T_40276_level0_row5\" class=\"row_heading level0 row5\" >category_computers_and_it</th>\n",
       "      <td id=\"T_40276_row5_col0\" class=\"data row5 col0\" >17</td>\n",
       "      <td id=\"T_40276_row5_col1\" class=\"data row5 col1\" >31</td>\n",
       "      <td id=\"T_40276_row5_col2\" class=\"data row5 col2\" >50</td>\n",
       "    </tr>\n",
       "    <tr>\n",
       "      <th id=\"T_40276_level0_row6\" class=\"row_heading level0 row6\" >category_medical</th>\n",
       "      <td id=\"T_40276_row6_col0\" class=\"data row6 col0\" >17</td>\n",
       "      <td id=\"T_40276_row6_col1\" class=\"data row6 col1\" >31</td>\n",
       "      <td id=\"T_40276_row6_col2\" class=\"data row6 col2\" >53</td>\n",
       "    </tr>\n",
       "    <tr>\n",
       "      <th id=\"T_40276_level0_row7\" class=\"row_heading level0 row7\" >category_tutoring</th>\n",
       "      <td id=\"T_40276_row7_col0\" class=\"data row7 col0\" >15</td>\n",
       "      <td id=\"T_40276_row7_col1\" class=\"data row7 col1\" >31</td>\n",
       "      <td id=\"T_40276_row7_col2\" class=\"data row7 col2\" >52</td>\n",
       "    </tr>\n",
       "    <tr>\n",
       "      <th id=\"T_40276_level0_row8\" class=\"row_heading level0 row8\" >category_career_advice</th>\n",
       "      <td id=\"T_40276_row8_col0\" class=\"data row8 col0\" >17</td>\n",
       "      <td id=\"T_40276_row8_col1\" class=\"data row8 col1\" >31</td>\n",
       "      <td id=\"T_40276_row8_col2\" class=\"data row8 col2\" >51</td>\n",
       "    </tr>\n",
       "    <tr>\n",
       "      <th id=\"T_40276_level0_row9\" class=\"row_heading level0 row9\" >category_home_and_car_repair</th>\n",
       "      <td id=\"T_40276_row9_col0\" class=\"data row9 col0\" >17</td>\n",
       "      <td id=\"T_40276_row9_col1\" class=\"data row9 col1\" >31</td>\n",
       "      <td id=\"T_40276_row9_col2\" class=\"data row9 col2\" >50</td>\n",
       "    </tr>\n",
       "    <tr>\n",
       "      <th id=\"T_40276_level0_row10\" class=\"row_heading level0 row10\" >category_beauty_and_fashion</th>\n",
       "      <td id=\"T_40276_row10_col0\" class=\"data row10 col0\" >14</td>\n",
       "      <td id=\"T_40276_row10_col1\" class=\"data row10 col1\" >28</td>\n",
       "      <td id=\"T_40276_row10_col2\" class=\"data row10 col2\" >49</td>\n",
       "    </tr>\n",
       "    <tr>\n",
       "      <th id=\"T_40276_level0_row11\" class=\"row_heading level0 row11\" >category_therapy</th>\n",
       "      <td id=\"T_40276_row11_col0\" class=\"data row11 col0\" >15</td>\n",
       "      <td id=\"T_40276_row11_col1\" class=\"data row11 col1\" >28</td>\n",
       "      <td id=\"T_40276_row11_col2\" class=\"data row11 col2\" >46</td>\n",
       "    </tr>\n",
       "  </tbody>\n",
       "</table>\n"
      ],
      "text/plain": [
       "<pandas.io.formats.style.Styler at 0x7ff6ac7604c0>"
      ]
     },
     "execution_count": 210,
     "metadata": {},
     "output_type": "execute_result"
    }
   ],
   "source": [
    "px_by_category.sort_values(by='px', ascending=False).style.format('{:,.0f}')"
   ]
  }
 ],
 "metadata": {
  "kernelspec": {
   "display_name": "Python 3 (ipykernel)",
   "language": "python",
   "name": "python3"
  },
  "language_info": {
   "codemirror_mode": {
    "name": "ipython",
    "version": 3
   },
   "file_extension": ".py",
   "mimetype": "text/x-python",
   "name": "python",
   "nbconvert_exporter": "python",
   "pygments_lexer": "ipython3",
   "version": "3.9.5"
  },
  "toc-autonumbering": true
 },
 "nbformat": 4,
 "nbformat_minor": 5
}
